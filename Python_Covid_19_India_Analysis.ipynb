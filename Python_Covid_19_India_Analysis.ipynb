{
  "nbformat": 4,
  "nbformat_minor": 0,
  "metadata": {
    "colab": {
      "provenance": []
    },
    "kernelspec": {
      "name": "python3",
      "display_name": "Python 3"
    },
    "language_info": {
      "name": "python"
    }
  },
  "cells": [
    {
      "cell_type": "markdown",
      "source": [
        "#**Covid-19 India Analysis**"
      ],
      "metadata": {
        "id": "h8ROg0uQg3Df"
      }
    },
    {
      "cell_type": "markdown",
      "source": [
        "**Import Necessary Libraries**"
      ],
      "metadata": {
        "id": "mzLxFp6agpjp"
      }
    },
    {
      "cell_type": "code",
      "execution_count": null,
      "metadata": {
        "id": "zpiwc-oP38U-"
      },
      "outputs": [],
      "source": [
        "import requests\n",
        "import pandas as pd\n",
        "from google.colab import files"
      ]
    },
    {
      "cell_type": "markdown",
      "source": [
        "**URLs for the data sources**"
      ],
      "metadata": {
        "id": "x_JeHVkJhLSp"
      }
    },
    {
      "cell_type": "code",
      "source": [
        "data_url = 'https://data.covid19india.org/v4/min/data.min.json'\n",
        "timeseries_url = 'https://data.covid19india.org/v4/min/timeseries.min.json'"
      ],
      "metadata": {
        "id": "m6M11ofl4CpF"
      },
      "execution_count": null,
      "outputs": []
    },
    {
      "cell_type": "markdown",
      "source": [
        "**Used requests library to send HTTP GET requests to retrieve JSON data from two URLs.**"
      ],
      "metadata": {
        "id": "0sDNknKWiauJ"
      }
    },
    {
      "cell_type": "code",
      "source": [
        "data_response = requests.get(data_url)\n",
        "timeseries_response = requests.get(timeseries_url)"
      ],
      "metadata": {
        "id": "KPSUtprkh7GU"
      },
      "execution_count": null,
      "outputs": []
    },
    {
      "cell_type": "markdown",
      "source": [
        "**Converting the JSON data into Python dictionaries using the json() method.**\n"
      ],
      "metadata": {
        "id": "rFbgTfkNig-j"
      }
    },
    {
      "cell_type": "code",
      "source": [
        "data = data_response.json()\n",
        "timeseries_data = timeseries_response.json()"
      ],
      "metadata": {
        "id": "Kn0Hmw7j6zd9"
      },
      "execution_count": null,
      "outputs": []
    },
    {
      "cell_type": "markdown",
      "source": [
        "**Creating a Variable for future work**"
      ],
      "metadata": {
        "id": "OzHUfyCYjkli"
      }
    },
    {
      "cell_type": "code",
      "source": [
        "st_name={\n",
        "    \"AN\": \"Andaman and Nicobar Islands\",\n",
        "    \"AP\": \"Andhra Pradesh\",\n",
        "    \"AR\": \"Arunachal Pradesh\",\n",
        "    \"AS\": \"Assam\",\n",
        "    \"BR\": \"Bihar\",\n",
        "    \"CH\": \"Chandigarh\",\n",
        "    \"CT\": \"Chhattisgarh\",\n",
        "    \"DL\": \"Delhi\",\n",
        "    \"DN\": \"Dadra and Nagar Haveli and Daman and Diu\",\n",
        "    \"GA\": \"Goa\",\n",
        "    \"GJ\": \"Gujarat\",\n",
        "    \"HP\": \"Himachal Pradesh\",\n",
        "    \"HR\": \"Haryana\",\n",
        "    \"JH\": \"Jharkhand\",\n",
        "    \"JK\": \"Jammu and Kashmir\",\n",
        "    \"KA\": \"Karnataka\",\n",
        "    \"KL\": \"Kerala\",\n",
        "    \"LA\": \"Ladakh\",\n",
        "    \"LD\": \"Lakshadweep\",\n",
        "    \"MH\": \"Maharashtra\",\n",
        "    \"ML\": \"Meghalaya\",\n",
        "    \"MN\": \"Manipur\",\n",
        "    \"MP\": \"Madhya Pradesh\",\n",
        "    \"MZ\": \"Mizoram\",\n",
        "    \"NL\": \"Nagaland\",\n",
        "    \"OR\": \"Odisha\",\n",
        "    \"PB\": \"Punjab\",\n",
        "    \"PY\": \"Puducherry\",\n",
        "    \"RJ\": \"Rajasthan\",\n",
        "    \"SK\": \"Sikkim\",\n",
        "    \"TG\": \"Telangana\",\n",
        "    \"TN\": \"Tamil Nadu\",\n",
        "    \"TR\": \"Tripura\",\n",
        "    \"TT\": \"India\",\n",
        "    \"UP\": \"Uttar Pradesh\",\n",
        "    \"UT\": \"Uttarakhand\",\n",
        "    \"WB\": \"West Bengal\",\n",
        "}"
      ],
      "metadata": {
        "id": "px6Lv9ocjjeM"
      },
      "execution_count": null,
      "outputs": []
    },
    {
      "cell_type": "markdown",
      "source": [
        "**Prepare the state-level data**"
      ],
      "metadata": {
        "id": "2Kog7hyqjQJc"
      }
    },
    {
      "cell_type": "code",
      "source": [
        "state_data = []\n",
        "\n",
        "for state_code, state_info in data.items():\n",
        "    state_row = {\n",
        "        'state_name': state_code,\n",
        "        'population': state_info.get('meta', {}).get('population', None),\n",
        "        'total_confirmed': state_info.get('total', {}).get('confirmed', None),\n",
        "        'total_recovered': state_info.get('total', {}).get('recovered', None),\n",
        "        'total_deceased': state_info.get('total', {}).get('deceased', None),\n",
        "        'total_tested': state_info.get('total', {}).get('tested', None),\n",
        "        'delta_tested': state_info.get('delta', {}).get('tested', None),\n",
        "        'delta7_tested': state_info.get('delta7', {}).get('tested', None),\n",
        "        'delta21_14_tested': state_info.get('delta21_14', {}).get('tested', None),\n",
        "        'total_vaccinated1': state_info.get('total', {}).get('vaccinated1', None),\n",
        "        'total_vaccinated2': state_info.get('total', {}).get('vaccinated2', None),\n",
        "        'delta_vaccinated1': state_info.get('delta', {}).get('vaccinated1', None),\n",
        "        'delta_vaccinated2': state_info.get('delta', {}).get('vaccinated2', None),\n",
        "        'delta7_vaccinated1': state_info.get('delta7', {}).get('vaccinated1', None),\n",
        "        'delta7_vaccinated2': state_info.get('delta7', {}).get('vaccinated2', None),\n",
        "        'delta21_14_confirmed': state_info.get('delta21_14', {}).get('confirmed', None),\n",
        "        'total_doses': state_info.get('meta', {}).get('vaccinated', {}).get('total_doses', None)\n",
        "    }\n",
        "    state_data.append(state_row)\n"
      ],
      "metadata": {
        "id": "yabvtQYR6td1"
      },
      "execution_count": null,
      "outputs": []
    },
    {
      "cell_type": "markdown",
      "source": [
        "**Create state_df DataFrame**"
      ],
      "metadata": {
        "id": "yBOrtHK0jVxq"
      }
    },
    {
      "cell_type": "code",
      "source": [
        "state_df = pd.DataFrame(state_data)"
      ],
      "metadata": {
        "id": "xRi6wm12jTwO"
      },
      "execution_count": null,
      "outputs": []
    },
    {
      "cell_type": "markdown",
      "source": [
        "**Looking how the data looks like**"
      ],
      "metadata": {
        "id": "DFuuZQM_kBYm"
      }
    },
    {
      "cell_type": "code",
      "source": [
        "state_df.head()"
      ],
      "metadata": {
        "colab": {
          "base_uri": "https://localhost:8080/",
          "height": 270
        },
        "id": "2buyS_eUkAsk",
        "outputId": "e6098f37-ea7b-4f6b-e22c-9bcd74433395"
      },
      "execution_count": null,
      "outputs": [
        {
          "output_type": "execute_result",
          "data": {
            "text/plain": [
              "  state_name  population  total_confirmed  total_recovered  total_deceased  \\\n",
              "0         AN      397000             7651             7518             129   \n",
              "1         AP    52221000          2066450          2047722           14373   \n",
              "2         AR     1504000            55155            54774             280   \n",
              "3         AS    34293000           610645           600974            5997   \n",
              "4         BR   119520000           726098           716390            9661   \n",
              "\n",
              "   total_tested  delta_tested  delta7_tested delta21_14_tested  \\\n",
              "0        598033        1376.0         8936.0              None   \n",
              "1      29518787       39848.0       254532.0              None   \n",
              "2       1185436         334.0         4788.0              None   \n",
              "3      24712042       15060.0       269097.0              None   \n",
              "4      50531824      226443.0      1378539.0              None   \n",
              "\n",
              "   total_vaccinated1  total_vaccinated2  delta_vaccinated1  delta_vaccinated2  \\\n",
              "0             294001             200157                3.0               13.0   \n",
              "1           32976969           20375181            20497.0            24137.0   \n",
              "2             771875             534486               42.0              195.0   \n",
              "3           20172463            8068795            19124.0            37463.0   \n",
              "4           49874828           18346781           114694.0           145827.0   \n",
              "\n",
              "   delta7_vaccinated1  delta7_vaccinated2  delta21_14_confirmed total_doses  \n",
              "0                 884               10640                   9.0        None  \n",
              "1             1223010             1887005                3220.0        None  \n",
              "2                3312               23647                  87.0        None  \n",
              "3              274869              849889                1499.0        None  \n",
              "4             1286708             2144970                  30.0        None  "
            ],
            "text/html": [
              "\n",
              "  <div id=\"df-387fffc4-f83a-454c-a843-8051bda2c17b\">\n",
              "    <div class=\"colab-df-container\">\n",
              "      <div>\n",
              "<style scoped>\n",
              "    .dataframe tbody tr th:only-of-type {\n",
              "        vertical-align: middle;\n",
              "    }\n",
              "\n",
              "    .dataframe tbody tr th {\n",
              "        vertical-align: top;\n",
              "    }\n",
              "\n",
              "    .dataframe thead th {\n",
              "        text-align: right;\n",
              "    }\n",
              "</style>\n",
              "<table border=\"1\" class=\"dataframe\">\n",
              "  <thead>\n",
              "    <tr style=\"text-align: right;\">\n",
              "      <th></th>\n",
              "      <th>state_name</th>\n",
              "      <th>population</th>\n",
              "      <th>total_confirmed</th>\n",
              "      <th>total_recovered</th>\n",
              "      <th>total_deceased</th>\n",
              "      <th>total_tested</th>\n",
              "      <th>delta_tested</th>\n",
              "      <th>delta7_tested</th>\n",
              "      <th>delta21_14_tested</th>\n",
              "      <th>total_vaccinated1</th>\n",
              "      <th>total_vaccinated2</th>\n",
              "      <th>delta_vaccinated1</th>\n",
              "      <th>delta_vaccinated2</th>\n",
              "      <th>delta7_vaccinated1</th>\n",
              "      <th>delta7_vaccinated2</th>\n",
              "      <th>delta21_14_confirmed</th>\n",
              "      <th>total_doses</th>\n",
              "    </tr>\n",
              "  </thead>\n",
              "  <tbody>\n",
              "    <tr>\n",
              "      <th>0</th>\n",
              "      <td>AN</td>\n",
              "      <td>397000</td>\n",
              "      <td>7651</td>\n",
              "      <td>7518</td>\n",
              "      <td>129</td>\n",
              "      <td>598033</td>\n",
              "      <td>1376.0</td>\n",
              "      <td>8936.0</td>\n",
              "      <td>None</td>\n",
              "      <td>294001</td>\n",
              "      <td>200157</td>\n",
              "      <td>3.0</td>\n",
              "      <td>13.0</td>\n",
              "      <td>884</td>\n",
              "      <td>10640</td>\n",
              "      <td>9.0</td>\n",
              "      <td>None</td>\n",
              "    </tr>\n",
              "    <tr>\n",
              "      <th>1</th>\n",
              "      <td>AP</td>\n",
              "      <td>52221000</td>\n",
              "      <td>2066450</td>\n",
              "      <td>2047722</td>\n",
              "      <td>14373</td>\n",
              "      <td>29518787</td>\n",
              "      <td>39848.0</td>\n",
              "      <td>254532.0</td>\n",
              "      <td>None</td>\n",
              "      <td>32976969</td>\n",
              "      <td>20375181</td>\n",
              "      <td>20497.0</td>\n",
              "      <td>24137.0</td>\n",
              "      <td>1223010</td>\n",
              "      <td>1887005</td>\n",
              "      <td>3220.0</td>\n",
              "      <td>None</td>\n",
              "    </tr>\n",
              "    <tr>\n",
              "      <th>2</th>\n",
              "      <td>AR</td>\n",
              "      <td>1504000</td>\n",
              "      <td>55155</td>\n",
              "      <td>54774</td>\n",
              "      <td>280</td>\n",
              "      <td>1185436</td>\n",
              "      <td>334.0</td>\n",
              "      <td>4788.0</td>\n",
              "      <td>None</td>\n",
              "      <td>771875</td>\n",
              "      <td>534486</td>\n",
              "      <td>42.0</td>\n",
              "      <td>195.0</td>\n",
              "      <td>3312</td>\n",
              "      <td>23647</td>\n",
              "      <td>87.0</td>\n",
              "      <td>None</td>\n",
              "    </tr>\n",
              "    <tr>\n",
              "      <th>3</th>\n",
              "      <td>AS</td>\n",
              "      <td>34293000</td>\n",
              "      <td>610645</td>\n",
              "      <td>600974</td>\n",
              "      <td>5997</td>\n",
              "      <td>24712042</td>\n",
              "      <td>15060.0</td>\n",
              "      <td>269097.0</td>\n",
              "      <td>None</td>\n",
              "      <td>20172463</td>\n",
              "      <td>8068795</td>\n",
              "      <td>19124.0</td>\n",
              "      <td>37463.0</td>\n",
              "      <td>274869</td>\n",
              "      <td>849889</td>\n",
              "      <td>1499.0</td>\n",
              "      <td>None</td>\n",
              "    </tr>\n",
              "    <tr>\n",
              "      <th>4</th>\n",
              "      <td>BR</td>\n",
              "      <td>119520000</td>\n",
              "      <td>726098</td>\n",
              "      <td>716390</td>\n",
              "      <td>9661</td>\n",
              "      <td>50531824</td>\n",
              "      <td>226443.0</td>\n",
              "      <td>1378539.0</td>\n",
              "      <td>None</td>\n",
              "      <td>49874828</td>\n",
              "      <td>18346781</td>\n",
              "      <td>114694.0</td>\n",
              "      <td>145827.0</td>\n",
              "      <td>1286708</td>\n",
              "      <td>2144970</td>\n",
              "      <td>30.0</td>\n",
              "      <td>None</td>\n",
              "    </tr>\n",
              "  </tbody>\n",
              "</table>\n",
              "</div>\n",
              "      <button class=\"colab-df-convert\" onclick=\"convertToInteractive('df-387fffc4-f83a-454c-a843-8051bda2c17b')\"\n",
              "              title=\"Convert this dataframe to an interactive table.\"\n",
              "              style=\"display:none;\">\n",
              "        \n",
              "  <svg xmlns=\"http://www.w3.org/2000/svg\" height=\"24px\"viewBox=\"0 0 24 24\"\n",
              "       width=\"24px\">\n",
              "    <path d=\"M0 0h24v24H0V0z\" fill=\"none\"/>\n",
              "    <path d=\"M18.56 5.44l.94 2.06.94-2.06 2.06-.94-2.06-.94-.94-2.06-.94 2.06-2.06.94zm-11 1L8.5 8.5l.94-2.06 2.06-.94-2.06-.94L8.5 2.5l-.94 2.06-2.06.94zm10 10l.94 2.06.94-2.06 2.06-.94-2.06-.94-.94-2.06-.94 2.06-2.06.94z\"/><path d=\"M17.41 7.96l-1.37-1.37c-.4-.4-.92-.59-1.43-.59-.52 0-1.04.2-1.43.59L10.3 9.45l-7.72 7.72c-.78.78-.78 2.05 0 2.83L4 21.41c.39.39.9.59 1.41.59.51 0 1.02-.2 1.41-.59l7.78-7.78 2.81-2.81c.8-.78.8-2.07 0-2.86zM5.41 20L4 18.59l7.72-7.72 1.47 1.35L5.41 20z\"/>\n",
              "  </svg>\n",
              "      </button>\n",
              "      \n",
              "  <style>\n",
              "    .colab-df-container {\n",
              "      display:flex;\n",
              "      flex-wrap:wrap;\n",
              "      gap: 12px;\n",
              "    }\n",
              "\n",
              "    .colab-df-convert {\n",
              "      background-color: #E8F0FE;\n",
              "      border: none;\n",
              "      border-radius: 50%;\n",
              "      cursor: pointer;\n",
              "      display: none;\n",
              "      fill: #1967D2;\n",
              "      height: 32px;\n",
              "      padding: 0 0 0 0;\n",
              "      width: 32px;\n",
              "    }\n",
              "\n",
              "    .colab-df-convert:hover {\n",
              "      background-color: #E2EBFA;\n",
              "      box-shadow: 0px 1px 2px rgba(60, 64, 67, 0.3), 0px 1px 3px 1px rgba(60, 64, 67, 0.15);\n",
              "      fill: #174EA6;\n",
              "    }\n",
              "\n",
              "    [theme=dark] .colab-df-convert {\n",
              "      background-color: #3B4455;\n",
              "      fill: #D2E3FC;\n",
              "    }\n",
              "\n",
              "    [theme=dark] .colab-df-convert:hover {\n",
              "      background-color: #434B5C;\n",
              "      box-shadow: 0px 1px 3px 1px rgba(0, 0, 0, 0.15);\n",
              "      filter: drop-shadow(0px 1px 2px rgba(0, 0, 0, 0.3));\n",
              "      fill: #FFFFFF;\n",
              "    }\n",
              "  </style>\n",
              "\n",
              "      <script>\n",
              "        const buttonEl =\n",
              "          document.querySelector('#df-387fffc4-f83a-454c-a843-8051bda2c17b button.colab-df-convert');\n",
              "        buttonEl.style.display =\n",
              "          google.colab.kernel.accessAllowed ? 'block' : 'none';\n",
              "\n",
              "        async function convertToInteractive(key) {\n",
              "          const element = document.querySelector('#df-387fffc4-f83a-454c-a843-8051bda2c17b');\n",
              "          const dataTable =\n",
              "            await google.colab.kernel.invokeFunction('convertToInteractive',\n",
              "                                                     [key], {});\n",
              "          if (!dataTable) return;\n",
              "\n",
              "          const docLinkHtml = 'Like what you see? Visit the ' +\n",
              "            '<a target=\"_blank\" href=https://colab.research.google.com/notebooks/data_table.ipynb>data table notebook</a>'\n",
              "            + ' to learn more about interactive tables.';\n",
              "          element.innerHTML = '';\n",
              "          dataTable['output_type'] = 'display_data';\n",
              "          await google.colab.output.renderOutput(dataTable, element);\n",
              "          const docLink = document.createElement('div');\n",
              "          docLink.innerHTML = docLinkHtml;\n",
              "          element.appendChild(docLink);\n",
              "        }\n",
              "      </script>\n",
              "    </div>\n",
              "  </div>\n",
              "  "
            ]
          },
          "metadata": {},
          "execution_count": 8
        }
      ]
    },
    {
      "cell_type": "markdown",
      "source": [
        "**Replacing State Code with State Name**"
      ],
      "metadata": {
        "id": "DFllbpMWjzNw"
      }
    },
    {
      "cell_type": "code",
      "source": [
        "state_df['state_name'] = state_df['state_name'].replace(st_name)"
      ],
      "metadata": {
        "id": "UgwQJmA0PNEw"
      },
      "execution_count": null,
      "outputs": []
    },
    {
      "cell_type": "markdown",
      "source": [
        "**Removing \"India/Total\" row as it contains sum of all numerical columns, which we are going to check in future**"
      ],
      "metadata": {
        "id": "6xKhWRdNkK3p"
      }
    },
    {
      "cell_type": "code",
      "source": [
        "state_df = state_df[state_df['state_name'] != \"India\"]"
      ],
      "metadata": {
        "id": "M9ElwGlyRvZA"
      },
      "execution_count": null,
      "outputs": []
    },
    {
      "cell_type": "markdown",
      "source": [
        "**Prepare the district-level data**"
      ],
      "metadata": {
        "id": "7H4XCvA_ktli"
      }
    },
    {
      "cell_type": "code",
      "source": [
        "district_data = []\n",
        "\n",
        "for state_code, state_info in data.items():\n",
        "    state_name = state_info.get('meta', {}).get('state_name', None)\n",
        "    districts = state_info.get('districts', {})\n",
        "    for district_name, district_info in districts.items():\n",
        "        district_row = {\n",
        "            'state_name': state_code,\n",
        "            'district_name': district_name,\n",
        "            'population': district_info.get('meta', {}).get('population', None),\n",
        "            'confirmed': district_info.get('total', {}).get('confirmed', None),\n",
        "            'recovered': district_info.get('total', {}).get('recovered', None),\n",
        "            'deceased': district_info.get('total', {}).get('deceased', None),\n",
        "            'tested': district_info.get('total', {}).get('tested', None)\n",
        "        }\n",
        "        district_data.append(district_row)\n"
      ],
      "metadata": {
        "id": "aQWZhGN__5cq"
      },
      "execution_count": null,
      "outputs": []
    },
    {
      "cell_type": "markdown",
      "source": [
        "**Create a district_df DataFrame**"
      ],
      "metadata": {
        "id": "Nqnkc6Kdkzho"
      }
    },
    {
      "cell_type": "code",
      "source": [
        "district_df = pd.DataFrame(district_data)"
      ],
      "metadata": {
        "id": "UO2am0brkyO5"
      },
      "execution_count": null,
      "outputs": []
    },
    {
      "cell_type": "markdown",
      "source": [
        "**Looking how the data looks like**"
      ],
      "metadata": {
        "id": "wf7G0-uIlK65"
      }
    },
    {
      "cell_type": "code",
      "source": [
        "district_df.head()"
      ],
      "metadata": {
        "colab": {
          "base_uri": "https://localhost:8080/",
          "height": 206
        },
        "id": "wdqvfOYslLVO",
        "outputId": "a046c9fc-1f37-4cd7-e3fa-60d5173f25e5"
      },
      "execution_count": null,
      "outputs": [
        {
          "output_type": "execute_result",
          "data": {
            "text/plain": [
              "  state_name             district_name  population  confirmed  recovered  \\\n",
              "0         AN                  Nicobars     36842.0        NaN        NaN   \n",
              "1         AN  North and Middle Andaman    105597.0        NaN        NaN   \n",
              "2         AN             South Andaman    238142.0        NaN        NaN   \n",
              "3         AN                   Unknown         NaN     7651.0     7518.0   \n",
              "4         AP                 Anantapur   4083315.0   157843.0   156699.0   \n",
              "\n",
              "   deceased    tested  \n",
              "0       NaN       NaN  \n",
              "1       NaN       NaN  \n",
              "2       NaN       NaN  \n",
              "3     129.0       NaN  \n",
              "4    1093.0  787085.0  "
            ],
            "text/html": [
              "\n",
              "  <div id=\"df-51bfba9a-c6e1-4ce5-bd5f-92d346db337d\">\n",
              "    <div class=\"colab-df-container\">\n",
              "      <div>\n",
              "<style scoped>\n",
              "    .dataframe tbody tr th:only-of-type {\n",
              "        vertical-align: middle;\n",
              "    }\n",
              "\n",
              "    .dataframe tbody tr th {\n",
              "        vertical-align: top;\n",
              "    }\n",
              "\n",
              "    .dataframe thead th {\n",
              "        text-align: right;\n",
              "    }\n",
              "</style>\n",
              "<table border=\"1\" class=\"dataframe\">\n",
              "  <thead>\n",
              "    <tr style=\"text-align: right;\">\n",
              "      <th></th>\n",
              "      <th>state_name</th>\n",
              "      <th>district_name</th>\n",
              "      <th>population</th>\n",
              "      <th>confirmed</th>\n",
              "      <th>recovered</th>\n",
              "      <th>deceased</th>\n",
              "      <th>tested</th>\n",
              "    </tr>\n",
              "  </thead>\n",
              "  <tbody>\n",
              "    <tr>\n",
              "      <th>0</th>\n",
              "      <td>AN</td>\n",
              "      <td>Nicobars</td>\n",
              "      <td>36842.0</td>\n",
              "      <td>NaN</td>\n",
              "      <td>NaN</td>\n",
              "      <td>NaN</td>\n",
              "      <td>NaN</td>\n",
              "    </tr>\n",
              "    <tr>\n",
              "      <th>1</th>\n",
              "      <td>AN</td>\n",
              "      <td>North and Middle Andaman</td>\n",
              "      <td>105597.0</td>\n",
              "      <td>NaN</td>\n",
              "      <td>NaN</td>\n",
              "      <td>NaN</td>\n",
              "      <td>NaN</td>\n",
              "    </tr>\n",
              "    <tr>\n",
              "      <th>2</th>\n",
              "      <td>AN</td>\n",
              "      <td>South Andaman</td>\n",
              "      <td>238142.0</td>\n",
              "      <td>NaN</td>\n",
              "      <td>NaN</td>\n",
              "      <td>NaN</td>\n",
              "      <td>NaN</td>\n",
              "    </tr>\n",
              "    <tr>\n",
              "      <th>3</th>\n",
              "      <td>AN</td>\n",
              "      <td>Unknown</td>\n",
              "      <td>NaN</td>\n",
              "      <td>7651.0</td>\n",
              "      <td>7518.0</td>\n",
              "      <td>129.0</td>\n",
              "      <td>NaN</td>\n",
              "    </tr>\n",
              "    <tr>\n",
              "      <th>4</th>\n",
              "      <td>AP</td>\n",
              "      <td>Anantapur</td>\n",
              "      <td>4083315.0</td>\n",
              "      <td>157843.0</td>\n",
              "      <td>156699.0</td>\n",
              "      <td>1093.0</td>\n",
              "      <td>787085.0</td>\n",
              "    </tr>\n",
              "  </tbody>\n",
              "</table>\n",
              "</div>\n",
              "      <button class=\"colab-df-convert\" onclick=\"convertToInteractive('df-51bfba9a-c6e1-4ce5-bd5f-92d346db337d')\"\n",
              "              title=\"Convert this dataframe to an interactive table.\"\n",
              "              style=\"display:none;\">\n",
              "        \n",
              "  <svg xmlns=\"http://www.w3.org/2000/svg\" height=\"24px\"viewBox=\"0 0 24 24\"\n",
              "       width=\"24px\">\n",
              "    <path d=\"M0 0h24v24H0V0z\" fill=\"none\"/>\n",
              "    <path d=\"M18.56 5.44l.94 2.06.94-2.06 2.06-.94-2.06-.94-.94-2.06-.94 2.06-2.06.94zm-11 1L8.5 8.5l.94-2.06 2.06-.94-2.06-.94L8.5 2.5l-.94 2.06-2.06.94zm10 10l.94 2.06.94-2.06 2.06-.94-2.06-.94-.94-2.06-.94 2.06-2.06.94z\"/><path d=\"M17.41 7.96l-1.37-1.37c-.4-.4-.92-.59-1.43-.59-.52 0-1.04.2-1.43.59L10.3 9.45l-7.72 7.72c-.78.78-.78 2.05 0 2.83L4 21.41c.39.39.9.59 1.41.59.51 0 1.02-.2 1.41-.59l7.78-7.78 2.81-2.81c.8-.78.8-2.07 0-2.86zM5.41 20L4 18.59l7.72-7.72 1.47 1.35L5.41 20z\"/>\n",
              "  </svg>\n",
              "      </button>\n",
              "      \n",
              "  <style>\n",
              "    .colab-df-container {\n",
              "      display:flex;\n",
              "      flex-wrap:wrap;\n",
              "      gap: 12px;\n",
              "    }\n",
              "\n",
              "    .colab-df-convert {\n",
              "      background-color: #E8F0FE;\n",
              "      border: none;\n",
              "      border-radius: 50%;\n",
              "      cursor: pointer;\n",
              "      display: none;\n",
              "      fill: #1967D2;\n",
              "      height: 32px;\n",
              "      padding: 0 0 0 0;\n",
              "      width: 32px;\n",
              "    }\n",
              "\n",
              "    .colab-df-convert:hover {\n",
              "      background-color: #E2EBFA;\n",
              "      box-shadow: 0px 1px 2px rgba(60, 64, 67, 0.3), 0px 1px 3px 1px rgba(60, 64, 67, 0.15);\n",
              "      fill: #174EA6;\n",
              "    }\n",
              "\n",
              "    [theme=dark] .colab-df-convert {\n",
              "      background-color: #3B4455;\n",
              "      fill: #D2E3FC;\n",
              "    }\n",
              "\n",
              "    [theme=dark] .colab-df-convert:hover {\n",
              "      background-color: #434B5C;\n",
              "      box-shadow: 0px 1px 3px 1px rgba(0, 0, 0, 0.15);\n",
              "      filter: drop-shadow(0px 1px 2px rgba(0, 0, 0, 0.3));\n",
              "      fill: #FFFFFF;\n",
              "    }\n",
              "  </style>\n",
              "\n",
              "      <script>\n",
              "        const buttonEl =\n",
              "          document.querySelector('#df-51bfba9a-c6e1-4ce5-bd5f-92d346db337d button.colab-df-convert');\n",
              "        buttonEl.style.display =\n",
              "          google.colab.kernel.accessAllowed ? 'block' : 'none';\n",
              "\n",
              "        async function convertToInteractive(key) {\n",
              "          const element = document.querySelector('#df-51bfba9a-c6e1-4ce5-bd5f-92d346db337d');\n",
              "          const dataTable =\n",
              "            await google.colab.kernel.invokeFunction('convertToInteractive',\n",
              "                                                     [key], {});\n",
              "          if (!dataTable) return;\n",
              "\n",
              "          const docLinkHtml = 'Like what you see? Visit the ' +\n",
              "            '<a target=\"_blank\" href=https://colab.research.google.com/notebooks/data_table.ipynb>data table notebook</a>'\n",
              "            + ' to learn more about interactive tables.';\n",
              "          element.innerHTML = '';\n",
              "          dataTable['output_type'] = 'display_data';\n",
              "          await google.colab.output.renderOutput(dataTable, element);\n",
              "          const docLink = document.createElement('div');\n",
              "          docLink.innerHTML = docLinkHtml;\n",
              "          element.appendChild(docLink);\n",
              "        }\n",
              "      </script>\n",
              "    </div>\n",
              "  </div>\n",
              "  "
            ]
          },
          "metadata": {},
          "execution_count": 13
        }
      ]
    },
    {
      "cell_type": "markdown",
      "source": [
        "**Replacing State Code with State Name**\n",
        "\n",
        "\n"
      ],
      "metadata": {
        "id": "p2AzNWBalD2o"
      }
    },
    {
      "cell_type": "code",
      "source": [
        "district_df['state_name'] = district_df['state_name'].replace(st_name)"
      ],
      "metadata": {
        "id": "-SF9b0vBQJ4F"
      },
      "execution_count": null,
      "outputs": []
    },
    {
      "cell_type": "markdown",
      "source": [
        "**Removing \"India/Total\" row as it contains sum of all numerical columns, which we are going to check in future**\n",
        "\n"
      ],
      "metadata": {
        "id": "gJJSJatBlEkw"
      }
    },
    {
      "cell_type": "code",
      "source": [
        "district_df = district_df[district_df['state_name'] != \"India\"]"
      ],
      "metadata": {
        "id": "ePhNQklDRp-8"
      },
      "execution_count": null,
      "outputs": []
    },
    {
      "cell_type": "code",
      "source": [],
      "metadata": {
        "id": "eyj8RU_WLvrB"
      },
      "execution_count": null,
      "outputs": []
    },
    {
      "cell_type": "markdown",
      "source": [
        "**Prepare the state-wise timeseries data**"
      ],
      "metadata": {
        "id": "lhLXRAvSlQlj"
      }
    },
    {
      "cell_type": "code",
      "source": [
        "state_timeseries = []\n",
        "\n",
        "for state_code, state_info in timeseries_data.items():\n",
        "    for date, daily_info in state_info.get('dates', {}).items():\n",
        "        timeseries_row = {\n",
        "            'state_name': state_code,\n",
        "            'date': date,\n",
        "            'confirmed': daily_info.get('total', {}).get('confirmed', None),\n",
        "            'recovered': daily_info.get('total', {}).get('recovered', None),\n",
        "            'deceased': daily_info.get('total', {}).get('deceased', None),\n",
        "            'tested': daily_info.get('total', {}).get('tested', None),\n",
        "\n",
        "        }\n",
        "        state_timeseries.append(timeseries_row)\n",
        "\n"
      ],
      "metadata": {
        "id": "U1lRpzddAAKM"
      },
      "execution_count": null,
      "outputs": []
    },
    {
      "cell_type": "markdown",
      "source": [
        "**Create a timeseries_df DataFrame**"
      ],
      "metadata": {
        "id": "mSRUWmfTlU7Z"
      }
    },
    {
      "cell_type": "code",
      "source": [
        "timeseries_df = pd.DataFrame(state_timeseries)"
      ],
      "metadata": {
        "id": "9LAoe0dElTtB"
      },
      "execution_count": null,
      "outputs": []
    },
    {
      "cell_type": "markdown",
      "source": [
        "**Having a look at the data**"
      ],
      "metadata": {
        "id": "ogIeP7mulZcX"
      }
    },
    {
      "cell_type": "code",
      "source": [
        "timeseries_df.tail()"
      ],
      "metadata": {
        "colab": {
          "base_uri": "https://localhost:8080/",
          "height": 206
        },
        "id": "tm6Jkr5ilbyD",
        "outputId": "44bbafac-6fb9-457d-c759-9eef63984483"
      },
      "execution_count": null,
      "outputs": [
        {
          "output_type": "execute_result",
          "data": {
            "text/plain": [
              "      state_name        date  confirmed  recovered  deceased      tested\n",
              "21673         WB  2021-10-27  1589042.0  1561973.0   19096.0  19039301.0\n",
              "21674         WB  2021-10-28  1590032.0  1562818.0   19105.0  19084738.0\n",
              "21675         WB  2021-10-29  1591014.0  1563678.0   19113.0  19133755.0\n",
              "21676         WB  2021-10-30  1591994.0  1564558.0   19126.0  19180886.0\n",
              "21677         WB  2021-10-31  1592908.0  1565471.0   19141.0  19228303.0"
            ],
            "text/html": [
              "\n",
              "  <div id=\"df-8ac372c7-9871-4812-9e75-379c3b614167\">\n",
              "    <div class=\"colab-df-container\">\n",
              "      <div>\n",
              "<style scoped>\n",
              "    .dataframe tbody tr th:only-of-type {\n",
              "        vertical-align: middle;\n",
              "    }\n",
              "\n",
              "    .dataframe tbody tr th {\n",
              "        vertical-align: top;\n",
              "    }\n",
              "\n",
              "    .dataframe thead th {\n",
              "        text-align: right;\n",
              "    }\n",
              "</style>\n",
              "<table border=\"1\" class=\"dataframe\">\n",
              "  <thead>\n",
              "    <tr style=\"text-align: right;\">\n",
              "      <th></th>\n",
              "      <th>state_name</th>\n",
              "      <th>date</th>\n",
              "      <th>confirmed</th>\n",
              "      <th>recovered</th>\n",
              "      <th>deceased</th>\n",
              "      <th>tested</th>\n",
              "    </tr>\n",
              "  </thead>\n",
              "  <tbody>\n",
              "    <tr>\n",
              "      <th>21673</th>\n",
              "      <td>WB</td>\n",
              "      <td>2021-10-27</td>\n",
              "      <td>1589042.0</td>\n",
              "      <td>1561973.0</td>\n",
              "      <td>19096.0</td>\n",
              "      <td>19039301.0</td>\n",
              "    </tr>\n",
              "    <tr>\n",
              "      <th>21674</th>\n",
              "      <td>WB</td>\n",
              "      <td>2021-10-28</td>\n",
              "      <td>1590032.0</td>\n",
              "      <td>1562818.0</td>\n",
              "      <td>19105.0</td>\n",
              "      <td>19084738.0</td>\n",
              "    </tr>\n",
              "    <tr>\n",
              "      <th>21675</th>\n",
              "      <td>WB</td>\n",
              "      <td>2021-10-29</td>\n",
              "      <td>1591014.0</td>\n",
              "      <td>1563678.0</td>\n",
              "      <td>19113.0</td>\n",
              "      <td>19133755.0</td>\n",
              "    </tr>\n",
              "    <tr>\n",
              "      <th>21676</th>\n",
              "      <td>WB</td>\n",
              "      <td>2021-10-30</td>\n",
              "      <td>1591994.0</td>\n",
              "      <td>1564558.0</td>\n",
              "      <td>19126.0</td>\n",
              "      <td>19180886.0</td>\n",
              "    </tr>\n",
              "    <tr>\n",
              "      <th>21677</th>\n",
              "      <td>WB</td>\n",
              "      <td>2021-10-31</td>\n",
              "      <td>1592908.0</td>\n",
              "      <td>1565471.0</td>\n",
              "      <td>19141.0</td>\n",
              "      <td>19228303.0</td>\n",
              "    </tr>\n",
              "  </tbody>\n",
              "</table>\n",
              "</div>\n",
              "      <button class=\"colab-df-convert\" onclick=\"convertToInteractive('df-8ac372c7-9871-4812-9e75-379c3b614167')\"\n",
              "              title=\"Convert this dataframe to an interactive table.\"\n",
              "              style=\"display:none;\">\n",
              "        \n",
              "  <svg xmlns=\"http://www.w3.org/2000/svg\" height=\"24px\"viewBox=\"0 0 24 24\"\n",
              "       width=\"24px\">\n",
              "    <path d=\"M0 0h24v24H0V0z\" fill=\"none\"/>\n",
              "    <path d=\"M18.56 5.44l.94 2.06.94-2.06 2.06-.94-2.06-.94-.94-2.06-.94 2.06-2.06.94zm-11 1L8.5 8.5l.94-2.06 2.06-.94-2.06-.94L8.5 2.5l-.94 2.06-2.06.94zm10 10l.94 2.06.94-2.06 2.06-.94-2.06-.94-.94-2.06-.94 2.06-2.06.94z\"/><path d=\"M17.41 7.96l-1.37-1.37c-.4-.4-.92-.59-1.43-.59-.52 0-1.04.2-1.43.59L10.3 9.45l-7.72 7.72c-.78.78-.78 2.05 0 2.83L4 21.41c.39.39.9.59 1.41.59.51 0 1.02-.2 1.41-.59l7.78-7.78 2.81-2.81c.8-.78.8-2.07 0-2.86zM5.41 20L4 18.59l7.72-7.72 1.47 1.35L5.41 20z\"/>\n",
              "  </svg>\n",
              "      </button>\n",
              "      \n",
              "  <style>\n",
              "    .colab-df-container {\n",
              "      display:flex;\n",
              "      flex-wrap:wrap;\n",
              "      gap: 12px;\n",
              "    }\n",
              "\n",
              "    .colab-df-convert {\n",
              "      background-color: #E8F0FE;\n",
              "      border: none;\n",
              "      border-radius: 50%;\n",
              "      cursor: pointer;\n",
              "      display: none;\n",
              "      fill: #1967D2;\n",
              "      height: 32px;\n",
              "      padding: 0 0 0 0;\n",
              "      width: 32px;\n",
              "    }\n",
              "\n",
              "    .colab-df-convert:hover {\n",
              "      background-color: #E2EBFA;\n",
              "      box-shadow: 0px 1px 2px rgba(60, 64, 67, 0.3), 0px 1px 3px 1px rgba(60, 64, 67, 0.15);\n",
              "      fill: #174EA6;\n",
              "    }\n",
              "\n",
              "    [theme=dark] .colab-df-convert {\n",
              "      background-color: #3B4455;\n",
              "      fill: #D2E3FC;\n",
              "    }\n",
              "\n",
              "    [theme=dark] .colab-df-convert:hover {\n",
              "      background-color: #434B5C;\n",
              "      box-shadow: 0px 1px 3px 1px rgba(0, 0, 0, 0.15);\n",
              "      filter: drop-shadow(0px 1px 2px rgba(0, 0, 0, 0.3));\n",
              "      fill: #FFFFFF;\n",
              "    }\n",
              "  </style>\n",
              "\n",
              "      <script>\n",
              "        const buttonEl =\n",
              "          document.querySelector('#df-8ac372c7-9871-4812-9e75-379c3b614167 button.colab-df-convert');\n",
              "        buttonEl.style.display =\n",
              "          google.colab.kernel.accessAllowed ? 'block' : 'none';\n",
              "\n",
              "        async function convertToInteractive(key) {\n",
              "          const element = document.querySelector('#df-8ac372c7-9871-4812-9e75-379c3b614167');\n",
              "          const dataTable =\n",
              "            await google.colab.kernel.invokeFunction('convertToInteractive',\n",
              "                                                     [key], {});\n",
              "          if (!dataTable) return;\n",
              "\n",
              "          const docLinkHtml = 'Like what you see? Visit the ' +\n",
              "            '<a target=\"_blank\" href=https://colab.research.google.com/notebooks/data_table.ipynb>data table notebook</a>'\n",
              "            + ' to learn more about interactive tables.';\n",
              "          element.innerHTML = '';\n",
              "          dataTable['output_type'] = 'display_data';\n",
              "          await google.colab.output.renderOutput(dataTable, element);\n",
              "          const docLink = document.createElement('div');\n",
              "          docLink.innerHTML = docLinkHtml;\n",
              "          element.appendChild(docLink);\n",
              "        }\n",
              "      </script>\n",
              "    </div>\n",
              "  </div>\n",
              "  "
            ]
          },
          "metadata": {},
          "execution_count": 18
        }
      ]
    },
    {
      "cell_type": "markdown",
      "source": [
        "**Replacing State Code with State Name**"
      ],
      "metadata": {
        "id": "xTSuigJQldfa"
      }
    },
    {
      "cell_type": "code",
      "source": [
        "timeseries_df['state_name'] = timeseries_df['state_name'].replace(st_name)"
      ],
      "metadata": {
        "id": "8794iVpVQe3X"
      },
      "execution_count": null,
      "outputs": []
    },
    {
      "cell_type": "markdown",
      "source": [
        "**Removing \"India/Total\" row as it contains sum of all numerical columns, which we are going to check in future**"
      ],
      "metadata": {
        "id": "w8SNXHxSld-t"
      }
    },
    {
      "cell_type": "code",
      "source": [
        "timeseries_df = timeseries_df[timeseries_df['state_name'] != \"India\"]"
      ],
      "metadata": {
        "id": "nT4OLlcsRken"
      },
      "execution_count": null,
      "outputs": []
    },
    {
      "cell_type": "code",
      "source": [],
      "metadata": {
        "id": "Jzp5p0lJLsuR"
      },
      "execution_count": null,
      "outputs": []
    },
    {
      "cell_type": "markdown",
      "source": [
        "**Prepare the vaccination data**"
      ],
      "metadata": {
        "id": "fAu2-Swdl39X"
      }
    },
    {
      "cell_type": "code",
      "source": [
        "vaccination_data = []\n",
        "\n",
        "for state_code, state_info in data.items():\n",
        "    state_name = state_info.get('meta', {}).get('state_name', None)\n",
        "    total_vaccinated1 = state_info.get('total', {}).get('vaccinated1', None)\n",
        "    total_vaccinated2 = state_info.get('total', {}).get('vaccinated2', None)\n",
        "    date = state_info.get('meta', {}).get('vaccinated', {}).get('date', None)\n",
        "\n",
        "    vaccination_row = {\n",
        "        'state_name': state_code,\n",
        "        'total_vaccinated1': total_vaccinated1,\n",
        "        'total_vaccinated2': total_vaccinated2,\n",
        "        'date': date\n",
        "    }\n",
        "    vaccination_data.append(vaccination_row)\n"
      ],
      "metadata": {
        "id": "1rSUzf_QADjY"
      },
      "execution_count": null,
      "outputs": []
    },
    {
      "cell_type": "markdown",
      "source": [
        "**Create a vaccination_df DataFrame**"
      ],
      "metadata": {
        "id": "TGZpByfwmRcM"
      }
    },
    {
      "cell_type": "code",
      "source": [
        "vaccination_df = pd.DataFrame(vaccination_data)"
      ],
      "metadata": {
        "id": "Hpuy2YmfmR_8"
      },
      "execution_count": null,
      "outputs": []
    },
    {
      "cell_type": "markdown",
      "source": [
        "**Having a look at the data**"
      ],
      "metadata": {
        "id": "QmITkmUtmAsq"
      }
    },
    {
      "cell_type": "code",
      "source": [
        "vaccination_df.head()"
      ],
      "metadata": {
        "colab": {
          "base_uri": "https://localhost:8080/",
          "height": 206
        },
        "id": "VqmhXxjxLhNe",
        "outputId": "bf64b940-03c0-452b-c44d-277f2559e022"
      },
      "execution_count": null,
      "outputs": [
        {
          "output_type": "execute_result",
          "data": {
            "text/plain": [
              "  state_name  total_vaccinated1  total_vaccinated2        date\n",
              "0         AN             294001             200157  2021-10-31\n",
              "1         AP           32976969           20375181  2021-10-31\n",
              "2         AR             771875             534486  2021-10-31\n",
              "3         AS           20172463            8068795  2021-10-31\n",
              "4         BR           49874828           18346781  2021-10-31"
            ],
            "text/html": [
              "\n",
              "  <div id=\"df-a829f2e1-ff7c-4779-b3c0-c2adb825746a\">\n",
              "    <div class=\"colab-df-container\">\n",
              "      <div>\n",
              "<style scoped>\n",
              "    .dataframe tbody tr th:only-of-type {\n",
              "        vertical-align: middle;\n",
              "    }\n",
              "\n",
              "    .dataframe tbody tr th {\n",
              "        vertical-align: top;\n",
              "    }\n",
              "\n",
              "    .dataframe thead th {\n",
              "        text-align: right;\n",
              "    }\n",
              "</style>\n",
              "<table border=\"1\" class=\"dataframe\">\n",
              "  <thead>\n",
              "    <tr style=\"text-align: right;\">\n",
              "      <th></th>\n",
              "      <th>state_name</th>\n",
              "      <th>total_vaccinated1</th>\n",
              "      <th>total_vaccinated2</th>\n",
              "      <th>date</th>\n",
              "    </tr>\n",
              "  </thead>\n",
              "  <tbody>\n",
              "    <tr>\n",
              "      <th>0</th>\n",
              "      <td>AN</td>\n",
              "      <td>294001</td>\n",
              "      <td>200157</td>\n",
              "      <td>2021-10-31</td>\n",
              "    </tr>\n",
              "    <tr>\n",
              "      <th>1</th>\n",
              "      <td>AP</td>\n",
              "      <td>32976969</td>\n",
              "      <td>20375181</td>\n",
              "      <td>2021-10-31</td>\n",
              "    </tr>\n",
              "    <tr>\n",
              "      <th>2</th>\n",
              "      <td>AR</td>\n",
              "      <td>771875</td>\n",
              "      <td>534486</td>\n",
              "      <td>2021-10-31</td>\n",
              "    </tr>\n",
              "    <tr>\n",
              "      <th>3</th>\n",
              "      <td>AS</td>\n",
              "      <td>20172463</td>\n",
              "      <td>8068795</td>\n",
              "      <td>2021-10-31</td>\n",
              "    </tr>\n",
              "    <tr>\n",
              "      <th>4</th>\n",
              "      <td>BR</td>\n",
              "      <td>49874828</td>\n",
              "      <td>18346781</td>\n",
              "      <td>2021-10-31</td>\n",
              "    </tr>\n",
              "  </tbody>\n",
              "</table>\n",
              "</div>\n",
              "      <button class=\"colab-df-convert\" onclick=\"convertToInteractive('df-a829f2e1-ff7c-4779-b3c0-c2adb825746a')\"\n",
              "              title=\"Convert this dataframe to an interactive table.\"\n",
              "              style=\"display:none;\">\n",
              "        \n",
              "  <svg xmlns=\"http://www.w3.org/2000/svg\" height=\"24px\"viewBox=\"0 0 24 24\"\n",
              "       width=\"24px\">\n",
              "    <path d=\"M0 0h24v24H0V0z\" fill=\"none\"/>\n",
              "    <path d=\"M18.56 5.44l.94 2.06.94-2.06 2.06-.94-2.06-.94-.94-2.06-.94 2.06-2.06.94zm-11 1L8.5 8.5l.94-2.06 2.06-.94-2.06-.94L8.5 2.5l-.94 2.06-2.06.94zm10 10l.94 2.06.94-2.06 2.06-.94-2.06-.94-.94-2.06-.94 2.06-2.06.94z\"/><path d=\"M17.41 7.96l-1.37-1.37c-.4-.4-.92-.59-1.43-.59-.52 0-1.04.2-1.43.59L10.3 9.45l-7.72 7.72c-.78.78-.78 2.05 0 2.83L4 21.41c.39.39.9.59 1.41.59.51 0 1.02-.2 1.41-.59l7.78-7.78 2.81-2.81c.8-.78.8-2.07 0-2.86zM5.41 20L4 18.59l7.72-7.72 1.47 1.35L5.41 20z\"/>\n",
              "  </svg>\n",
              "      </button>\n",
              "      \n",
              "  <style>\n",
              "    .colab-df-container {\n",
              "      display:flex;\n",
              "      flex-wrap:wrap;\n",
              "      gap: 12px;\n",
              "    }\n",
              "\n",
              "    .colab-df-convert {\n",
              "      background-color: #E8F0FE;\n",
              "      border: none;\n",
              "      border-radius: 50%;\n",
              "      cursor: pointer;\n",
              "      display: none;\n",
              "      fill: #1967D2;\n",
              "      height: 32px;\n",
              "      padding: 0 0 0 0;\n",
              "      width: 32px;\n",
              "    }\n",
              "\n",
              "    .colab-df-convert:hover {\n",
              "      background-color: #E2EBFA;\n",
              "      box-shadow: 0px 1px 2px rgba(60, 64, 67, 0.3), 0px 1px 3px 1px rgba(60, 64, 67, 0.15);\n",
              "      fill: #174EA6;\n",
              "    }\n",
              "\n",
              "    [theme=dark] .colab-df-convert {\n",
              "      background-color: #3B4455;\n",
              "      fill: #D2E3FC;\n",
              "    }\n",
              "\n",
              "    [theme=dark] .colab-df-convert:hover {\n",
              "      background-color: #434B5C;\n",
              "      box-shadow: 0px 1px 3px 1px rgba(0, 0, 0, 0.15);\n",
              "      filter: drop-shadow(0px 1px 2px rgba(0, 0, 0, 0.3));\n",
              "      fill: #FFFFFF;\n",
              "    }\n",
              "  </style>\n",
              "\n",
              "      <script>\n",
              "        const buttonEl =\n",
              "          document.querySelector('#df-a829f2e1-ff7c-4779-b3c0-c2adb825746a button.colab-df-convert');\n",
              "        buttonEl.style.display =\n",
              "          google.colab.kernel.accessAllowed ? 'block' : 'none';\n",
              "\n",
              "        async function convertToInteractive(key) {\n",
              "          const element = document.querySelector('#df-a829f2e1-ff7c-4779-b3c0-c2adb825746a');\n",
              "          const dataTable =\n",
              "            await google.colab.kernel.invokeFunction('convertToInteractive',\n",
              "                                                     [key], {});\n",
              "          if (!dataTable) return;\n",
              "\n",
              "          const docLinkHtml = 'Like what you see? Visit the ' +\n",
              "            '<a target=\"_blank\" href=https://colab.research.google.com/notebooks/data_table.ipynb>data table notebook</a>'\n",
              "            + ' to learn more about interactive tables.';\n",
              "          element.innerHTML = '';\n",
              "          dataTable['output_type'] = 'display_data';\n",
              "          await google.colab.output.renderOutput(dataTable, element);\n",
              "          const docLink = document.createElement('div');\n",
              "          docLink.innerHTML = docLinkHtml;\n",
              "          element.appendChild(docLink);\n",
              "        }\n",
              "      </script>\n",
              "    </div>\n",
              "  </div>\n",
              "  "
            ]
          },
          "metadata": {},
          "execution_count": 23
        }
      ]
    },
    {
      "cell_type": "markdown",
      "source": [
        "**Replacing State Code with State Name**"
      ],
      "metadata": {
        "id": "C3ymGq1tl61A"
      }
    },
    {
      "cell_type": "code",
      "source": [
        "vaccination_df['state_name'] = vaccination_df['state_name'].replace(st_name)"
      ],
      "metadata": {
        "id": "KY22K9u7Qv5c"
      },
      "execution_count": null,
      "outputs": []
    },
    {
      "cell_type": "markdown",
      "source": [
        "**Removing \"India/Total\" row as it contains sum of all numerical columns, which we are going to check in future**"
      ],
      "metadata": {
        "id": "k9CK7ZXImG4C"
      }
    },
    {
      "cell_type": "code",
      "source": [
        "vaccination_df = vaccination_df[vaccination_df['state_name'] != \"India\"]"
      ],
      "metadata": {
        "id": "hwzoOo0RQ61n"
      },
      "execution_count": null,
      "outputs": []
    },
    {
      "cell_type": "markdown",
      "source": [
        "**Checking for null values**"
      ],
      "metadata": {
        "id": "0HUVwvcRmawc"
      }
    },
    {
      "cell_type": "code",
      "source": [
        "print(state_df.isnull().sum())\n",
        "print(\"----------------------\")\n",
        "print(district_df.isnull().sum())\n",
        "print(\"----------------------\")\n",
        "print(timeseries_df.isnull().sum())\n",
        "print(\"----------------------\")\n",
        "print(vaccination_df.isnull().sum())"
      ],
      "metadata": {
        "colab": {
          "base_uri": "https://localhost:8080/"
        },
        "id": "rjTKXPGHL75L",
        "outputId": "d677488c-b268-4347-ca6b-4c035fc833bd"
      },
      "execution_count": null,
      "outputs": [
        {
          "output_type": "stream",
          "name": "stdout",
          "text": [
            "state_name               0\n",
            "population               0\n",
            "total_confirmed          0\n",
            "total_recovered          0\n",
            "total_deceased           0\n",
            "total_tested             0\n",
            "delta_tested             1\n",
            "delta7_tested            1\n",
            "delta21_14_tested       36\n",
            "total_vaccinated1        0\n",
            "total_vaccinated2        0\n",
            "delta_vaccinated1        3\n",
            "delta_vaccinated2        1\n",
            "delta7_vaccinated1       0\n",
            "delta7_vaccinated2       0\n",
            "delta21_14_confirmed     1\n",
            "total_doses             36\n",
            "dtype: int64\n",
            "----------------------\n",
            "state_name         0\n",
            "district_name      0\n",
            "population        38\n",
            "confirmed         93\n",
            "recovered         94\n",
            "deceased         108\n",
            "tested           210\n",
            "dtype: int64\n",
            "----------------------\n",
            "state_name       0\n",
            "date             0\n",
            "confirmed      103\n",
            "recovered      774\n",
            "deceased      1804\n",
            "tested         751\n",
            "dtype: int64\n",
            "----------------------\n",
            "state_name           0\n",
            "total_vaccinated1    0\n",
            "total_vaccinated2    0\n",
            "date                 0\n",
            "dtype: int64\n"
          ]
        }
      ]
    },
    {
      "cell_type": "markdown",
      "source": [
        "**Handling the null Values**"
      ],
      "metadata": {
        "id": "lJsWYNMHmhDj"
      }
    },
    {
      "cell_type": "code",
      "source": [
        "state_df.drop(columns = ['delta21_14_tested', 'total_doses'], inplace = True)\n",
        "state_df.fillna(value=0, inplace=True)"
      ],
      "metadata": {
        "id": "DwBdkUHjSIQp"
      },
      "execution_count": null,
      "outputs": []
    },
    {
      "cell_type": "code",
      "source": [
        "district_df.dropna(subset=['population'], inplace=True)\n",
        "district_df.fillna({'confirmed': 0, 'recovered': 0, 'deceased': 0}, inplace=True)\n",
        "district_df['tested'].fillna(value=0, inplace=True)"
      ],
      "metadata": {
        "id": "tbHFjli0NJKw"
      },
      "execution_count": null,
      "outputs": []
    },
    {
      "cell_type": "code",
      "source": [
        "timeseries_df.fillna({'confirmed': 0, 'recovered': 0, 'deceased': 0}, inplace=True)\n",
        "timeseries_df['tested'].fillna(method='ffill', inplace=True)\n",
        "timeseries_df.fillna({'tested': 0}, inplace=True)"
      ],
      "metadata": {
        "id": "0ove-0ALWb__",
        "colab": {
          "base_uri": "https://localhost:8080/"
        },
        "outputId": "62817691-886a-4402-ae83-34536cde3cbf"
      },
      "execution_count": null,
      "outputs": [
        {
          "output_type": "stream",
          "name": "stderr",
          "text": [
            "<ipython-input-29-583fe3eb63e7>:1: SettingWithCopyWarning: \n",
            "A value is trying to be set on a copy of a slice from a DataFrame.\n",
            "Try using .loc[row_indexer,col_indexer] = value instead\n",
            "\n",
            "See the caveats in the documentation: https://pandas.pydata.org/pandas-docs/stable/user_guide/indexing.html#returning-a-view-versus-a-copy\n",
            "  timeseries_df.fillna({'confirmed': 0, 'recovered': 0, 'deceased': 0}, inplace=True)\n",
            "<ipython-input-29-583fe3eb63e7>:2: SettingWithCopyWarning: \n",
            "A value is trying to be set on a copy of a slice from a DataFrame\n",
            "\n",
            "See the caveats in the documentation: https://pandas.pydata.org/pandas-docs/stable/user_guide/indexing.html#returning-a-view-versus-a-copy\n",
            "  timeseries_df['tested'].fillna(method='ffill', inplace=True)\n",
            "<ipython-input-29-583fe3eb63e7>:3: SettingWithCopyWarning: \n",
            "A value is trying to be set on a copy of a slice from a DataFrame.\n",
            "Try using .loc[row_indexer,col_indexer] = value instead\n",
            "\n",
            "See the caveats in the documentation: https://pandas.pydata.org/pandas-docs/stable/user_guide/indexing.html#returning-a-view-versus-a-copy\n",
            "  timeseries_df.fillna({'tested': 0}, inplace=True)\n"
          ]
        }
      ]
    },
    {
      "cell_type": "markdown",
      "source": [
        "**Rechecking Null Values**"
      ],
      "metadata": {
        "id": "mdl3tWPnmlve"
      }
    },
    {
      "cell_type": "code",
      "source": [
        "print(state_df.isnull().sum())\n",
        "print(\"----------------------\")\n",
        "print(district_df.isnull().sum())\n",
        "print(\"----------------------\")\n",
        "print(timeseries_df.isnull().sum())\n",
        "print(\"----------------------\")\n",
        "print(vaccination_df.isnull().sum())"
      ],
      "metadata": {
        "colab": {
          "base_uri": "https://localhost:8080/"
        },
        "id": "WJK4mhg6Zwmi",
        "outputId": "f299d78e-5f9a-47d8-ea9e-d0d311d78074"
      },
      "execution_count": null,
      "outputs": [
        {
          "output_type": "stream",
          "name": "stdout",
          "text": [
            "state_name              0\n",
            "population              0\n",
            "total_confirmed         0\n",
            "total_recovered         0\n",
            "total_deceased          0\n",
            "total_tested            0\n",
            "delta_tested            0\n",
            "delta7_tested           0\n",
            "total_vaccinated1       0\n",
            "total_vaccinated2       0\n",
            "delta_vaccinated1       0\n",
            "delta_vaccinated2       0\n",
            "delta7_vaccinated1      0\n",
            "delta7_vaccinated2      0\n",
            "delta21_14_confirmed    0\n",
            "dtype: int64\n",
            "----------------------\n",
            "state_name       0\n",
            "district_name    0\n",
            "population       0\n",
            "confirmed        0\n",
            "recovered        0\n",
            "deceased         0\n",
            "tested           0\n",
            "dtype: int64\n",
            "----------------------\n",
            "state_name    0\n",
            "date          0\n",
            "confirmed     0\n",
            "recovered     0\n",
            "deceased      0\n",
            "tested        0\n",
            "dtype: int64\n",
            "----------------------\n",
            "state_name           0\n",
            "total_vaccinated1    0\n",
            "total_vaccinated2    0\n",
            "date                 0\n",
            "dtype: int64\n"
          ]
        }
      ]
    },
    {
      "cell_type": "markdown",
      "source": [
        "**Looking at the data types**"
      ],
      "metadata": {
        "id": "fg4mLzb9ms0b"
      }
    },
    {
      "cell_type": "code",
      "source": [
        "print(state_df.dtypes)\n",
        "print(\"----------------------\")\n",
        "print(district_df.dtypes)\n",
        "print(\"----------------------\")\n",
        "print(timeseries_df.dtypes)\n",
        "print(\"----------------------\")\n",
        "print(vaccination_df.dtypes)"
      ],
      "metadata": {
        "colab": {
          "base_uri": "https://localhost:8080/"
        },
        "id": "53A5MjcSZ1H1",
        "outputId": "c7b79fa4-792f-4581-955a-8f398a5972fd"
      },
      "execution_count": null,
      "outputs": [
        {
          "output_type": "stream",
          "name": "stdout",
          "text": [
            "state_name               object\n",
            "population                int64\n",
            "total_confirmed           int64\n",
            "total_recovered           int64\n",
            "total_deceased            int64\n",
            "total_tested              int64\n",
            "delta_tested            float64\n",
            "delta7_tested           float64\n",
            "total_vaccinated1         int64\n",
            "total_vaccinated2         int64\n",
            "delta_vaccinated1       float64\n",
            "delta_vaccinated2       float64\n",
            "delta7_vaccinated1        int64\n",
            "delta7_vaccinated2        int64\n",
            "delta21_14_confirmed    float64\n",
            "dtype: object\n",
            "----------------------\n",
            "state_name        object\n",
            "district_name     object\n",
            "population       float64\n",
            "confirmed        float64\n",
            "recovered        float64\n",
            "deceased         float64\n",
            "tested           float64\n",
            "dtype: object\n",
            "----------------------\n",
            "state_name     object\n",
            "date           object\n",
            "confirmed     float64\n",
            "recovered     float64\n",
            "deceased      float64\n",
            "tested        float64\n",
            "dtype: object\n",
            "----------------------\n",
            "state_name           object\n",
            "total_vaccinated1     int64\n",
            "total_vaccinated2     int64\n",
            "date                 object\n",
            "dtype: object\n"
          ]
        }
      ]
    },
    {
      "cell_type": "markdown",
      "source": [
        "**Changing the datatypes where required**"
      ],
      "metadata": {
        "id": "E6EjOvKIm0ye"
      }
    },
    {
      "cell_type": "code",
      "source": [
        "state_df[['delta_tested','delta7_tested','delta_vaccinated1','delta_vaccinated2','delta21_14_confirmed']]= state_df[['delta_tested','delta7_tested','delta_vaccinated1','delta_vaccinated2','delta21_14_confirmed']].astype(\"int\")"
      ],
      "metadata": {
        "id": "AfSAlZGbaH24"
      },
      "execution_count": null,
      "outputs": []
    },
    {
      "cell_type": "code",
      "source": [
        "district_df[['population', 'confirmed', 'recovered', 'deceased','tested']] = district_df[['population', 'confirmed', 'recovered', 'deceased','tested']].astype(int)\n"
      ],
      "metadata": {
        "id": "kAuLauMBbNk-"
      },
      "execution_count": null,
      "outputs": []
    },
    {
      "cell_type": "code",
      "source": [
        "timeseries_df[['confirmed', 'recovered', 'deceased', 'tested']] = timeseries_df[['confirmed', 'recovered', 'deceased', 'tested']].fillna(0).astype(int)\n",
        "timeseries_df['date'] = pd.to_datetime(timeseries_df['date'])"
      ],
      "metadata": {
        "id": "uXAviSShbyTW"
      },
      "execution_count": null,
      "outputs": []
    },
    {
      "cell_type": "code",
      "source": [
        "vaccination_df['date'] = pd.to_datetime(vaccination_df['date'])"
      ],
      "metadata": {
        "id": "-BEhogGFb5gh"
      },
      "execution_count": null,
      "outputs": []
    },
    {
      "cell_type": "markdown",
      "source": [
        "**Rechecking the datatypes**"
      ],
      "metadata": {
        "id": "V_5xROxem8Bl"
      }
    },
    {
      "cell_type": "code",
      "source": [
        "print(state_df.dtypes)\n",
        "print(\"----------------------\")\n",
        "print(district_df.dtypes)\n",
        "print(\"----------------------\")\n",
        "print(timeseries_df.dtypes)\n",
        "print(\"----------------------\")\n",
        "print(vaccination_df.dtypes)"
      ],
      "metadata": {
        "colab": {
          "base_uri": "https://localhost:8080/"
        },
        "id": "o4rAlSJRb-IT",
        "outputId": "f1faac64-a756-4fa7-c2c6-96ac84fa5ba6"
      },
      "execution_count": null,
      "outputs": [
        {
          "output_type": "stream",
          "name": "stdout",
          "text": [
            "state_name              object\n",
            "population               int64\n",
            "total_confirmed          int64\n",
            "total_recovered          int64\n",
            "total_deceased           int64\n",
            "total_tested             int64\n",
            "delta_tested             int64\n",
            "delta7_tested            int64\n",
            "total_vaccinated1        int64\n",
            "total_vaccinated2        int64\n",
            "delta_vaccinated1        int64\n",
            "delta_vaccinated2        int64\n",
            "delta7_vaccinated1       int64\n",
            "delta7_vaccinated2       int64\n",
            "delta21_14_confirmed     int64\n",
            "dtype: object\n",
            "----------------------\n",
            "state_name       object\n",
            "district_name    object\n",
            "population        int64\n",
            "confirmed         int64\n",
            "recovered         int64\n",
            "deceased          int64\n",
            "tested            int64\n",
            "dtype: object\n",
            "----------------------\n",
            "state_name            object\n",
            "date          datetime64[ns]\n",
            "confirmed              int64\n",
            "recovered              int64\n",
            "deceased               int64\n",
            "tested                 int64\n",
            "dtype: object\n",
            "----------------------\n",
            "state_name                   object\n",
            "total_vaccinated1             int64\n",
            "total_vaccinated2             int64\n",
            "date                 datetime64[ns]\n",
            "dtype: object\n"
          ]
        }
      ]
    },
    {
      "cell_type": "markdown",
      "source": [
        "**Converting all the dataframe to CSV files**"
      ],
      "metadata": {
        "id": "Scfz-KUVnBqi"
      }
    },
    {
      "cell_type": "code",
      "source": [
        "state_df.to_csv('state_data.csv', index=False)\n",
        "district_df.to_csv('district_data.csv', index=False)\n",
        "timeseries_df.to_csv('timeseries_data.csv', index=False)\n",
        "vaccination_df.to_csv('vaccination_data.csv', index=False)\n"
      ],
      "metadata": {
        "id": "R7iEsY_OfMia"
      },
      "execution_count": null,
      "outputs": []
    },
    {
      "cell_type": "markdown",
      "source": [
        "**Dowloading the CSV files for further analysis in SQL**"
      ],
      "metadata": {
        "id": "frlSWcjKnIi-"
      }
    },
    {
      "cell_type": "code",
      "source": [
        "files.download('state_data.csv')\n",
        "files.download('district_data.csv')\n",
        "files.download('timeseries_data.csv')\n",
        "files.download('vaccination_data.csv')"
      ],
      "metadata": {
        "colab": {
          "base_uri": "https://localhost:8080/",
          "height": 17
        },
        "id": "N1fgV_LHfri9",
        "outputId": "2be787fc-c35c-46bb-8067-4a4ab97fb87b"
      },
      "execution_count": null,
      "outputs": [
        {
          "output_type": "display_data",
          "data": {
            "text/plain": [
              "<IPython.core.display.Javascript object>"
            ],
            "application/javascript": [
              "\n",
              "    async function download(id, filename, size) {\n",
              "      if (!google.colab.kernel.accessAllowed) {\n",
              "        return;\n",
              "      }\n",
              "      const div = document.createElement('div');\n",
              "      const label = document.createElement('label');\n",
              "      label.textContent = `Downloading \"${filename}\": `;\n",
              "      div.appendChild(label);\n",
              "      const progress = document.createElement('progress');\n",
              "      progress.max = size;\n",
              "      div.appendChild(progress);\n",
              "      document.body.appendChild(div);\n",
              "\n",
              "      const buffers = [];\n",
              "      let downloaded = 0;\n",
              "\n",
              "      const channel = await google.colab.kernel.comms.open(id);\n",
              "      // Send a message to notify the kernel that we're ready.\n",
              "      channel.send({})\n",
              "\n",
              "      for await (const message of channel.messages) {\n",
              "        // Send a message to notify the kernel that we're ready.\n",
              "        channel.send({})\n",
              "        if (message.buffers) {\n",
              "          for (const buffer of message.buffers) {\n",
              "            buffers.push(buffer);\n",
              "            downloaded += buffer.byteLength;\n",
              "            progress.value = downloaded;\n",
              "          }\n",
              "        }\n",
              "      }\n",
              "      const blob = new Blob(buffers, {type: 'application/binary'});\n",
              "      const a = document.createElement('a');\n",
              "      a.href = window.URL.createObjectURL(blob);\n",
              "      a.download = filename;\n",
              "      div.appendChild(a);\n",
              "      a.click();\n",
              "      div.remove();\n",
              "    }\n",
              "  "
            ]
          },
          "metadata": {}
        },
        {
          "output_type": "display_data",
          "data": {
            "text/plain": [
              "<IPython.core.display.Javascript object>"
            ],
            "application/javascript": [
              "download(\"download_de9c7df0-86ce-4b49-b494-d445fe9ceaca\", \"state_data.csv\", 3903)"
            ]
          },
          "metadata": {}
        },
        {
          "output_type": "display_data",
          "data": {
            "text/plain": [
              "<IPython.core.display.Javascript object>"
            ],
            "application/javascript": [
              "\n",
              "    async function download(id, filename, size) {\n",
              "      if (!google.colab.kernel.accessAllowed) {\n",
              "        return;\n",
              "      }\n",
              "      const div = document.createElement('div');\n",
              "      const label = document.createElement('label');\n",
              "      label.textContent = `Downloading \"${filename}\": `;\n",
              "      div.appendChild(label);\n",
              "      const progress = document.createElement('progress');\n",
              "      progress.max = size;\n",
              "      div.appendChild(progress);\n",
              "      document.body.appendChild(div);\n",
              "\n",
              "      const buffers = [];\n",
              "      let downloaded = 0;\n",
              "\n",
              "      const channel = await google.colab.kernel.comms.open(id);\n",
              "      // Send a message to notify the kernel that we're ready.\n",
              "      channel.send({})\n",
              "\n",
              "      for await (const message of channel.messages) {\n",
              "        // Send a message to notify the kernel that we're ready.\n",
              "        channel.send({})\n",
              "        if (message.buffers) {\n",
              "          for (const buffer of message.buffers) {\n",
              "            buffers.push(buffer);\n",
              "            downloaded += buffer.byteLength;\n",
              "            progress.value = downloaded;\n",
              "          }\n",
              "        }\n",
              "      }\n",
              "      const blob = new Blob(buffers, {type: 'application/binary'});\n",
              "      const a = document.createElement('a');\n",
              "      a.href = window.URL.createObjectURL(blob);\n",
              "      a.download = filename;\n",
              "      div.appendChild(a);\n",
              "      a.click();\n",
              "      div.remove();\n",
              "    }\n",
              "  "
            ]
          },
          "metadata": {}
        },
        {
          "output_type": "display_data",
          "data": {
            "text/plain": [
              "<IPython.core.display.Javascript object>"
            ],
            "application/javascript": [
              "download(\"download_a6d97976-92fb-4aa7-8a40-3a0c59fdf35f\", \"district_data.csv\", 33992)"
            ]
          },
          "metadata": {}
        },
        {
          "output_type": "display_data",
          "data": {
            "text/plain": [
              "<IPython.core.display.Javascript object>"
            ],
            "application/javascript": [
              "\n",
              "    async function download(id, filename, size) {\n",
              "      if (!google.colab.kernel.accessAllowed) {\n",
              "        return;\n",
              "      }\n",
              "      const div = document.createElement('div');\n",
              "      const label = document.createElement('label');\n",
              "      label.textContent = `Downloading \"${filename}\": `;\n",
              "      div.appendChild(label);\n",
              "      const progress = document.createElement('progress');\n",
              "      progress.max = size;\n",
              "      div.appendChild(progress);\n",
              "      document.body.appendChild(div);\n",
              "\n",
              "      const buffers = [];\n",
              "      let downloaded = 0;\n",
              "\n",
              "      const channel = await google.colab.kernel.comms.open(id);\n",
              "      // Send a message to notify the kernel that we're ready.\n",
              "      channel.send({})\n",
              "\n",
              "      for await (const message of channel.messages) {\n",
              "        // Send a message to notify the kernel that we're ready.\n",
              "        channel.send({})\n",
              "        if (message.buffers) {\n",
              "          for (const buffer of message.buffers) {\n",
              "            buffers.push(buffer);\n",
              "            downloaded += buffer.byteLength;\n",
              "            progress.value = downloaded;\n",
              "          }\n",
              "        }\n",
              "      }\n",
              "      const blob = new Blob(buffers, {type: 'application/binary'});\n",
              "      const a = document.createElement('a');\n",
              "      a.href = window.URL.createObjectURL(blob);\n",
              "      a.download = filename;\n",
              "      div.appendChild(a);\n",
              "      a.click();\n",
              "      div.remove();\n",
              "    }\n",
              "  "
            ]
          },
          "metadata": {}
        },
        {
          "output_type": "display_data",
          "data": {
            "text/plain": [
              "<IPython.core.display.Javascript object>"
            ],
            "application/javascript": [
              "download(\"download_eecf6a19-3431-4641-b25c-559ae9e64191\", \"timeseries_data.csv\", 969659)"
            ]
          },
          "metadata": {}
        },
        {
          "output_type": "display_data",
          "data": {
            "text/plain": [
              "<IPython.core.display.Javascript object>"
            ],
            "application/javascript": [
              "\n",
              "    async function download(id, filename, size) {\n",
              "      if (!google.colab.kernel.accessAllowed) {\n",
              "        return;\n",
              "      }\n",
              "      const div = document.createElement('div');\n",
              "      const label = document.createElement('label');\n",
              "      label.textContent = `Downloading \"${filename}\": `;\n",
              "      div.appendChild(label);\n",
              "      const progress = document.createElement('progress');\n",
              "      progress.max = size;\n",
              "      div.appendChild(progress);\n",
              "      document.body.appendChild(div);\n",
              "\n",
              "      const buffers = [];\n",
              "      let downloaded = 0;\n",
              "\n",
              "      const channel = await google.colab.kernel.comms.open(id);\n",
              "      // Send a message to notify the kernel that we're ready.\n",
              "      channel.send({})\n",
              "\n",
              "      for await (const message of channel.messages) {\n",
              "        // Send a message to notify the kernel that we're ready.\n",
              "        channel.send({})\n",
              "        if (message.buffers) {\n",
              "          for (const buffer of message.buffers) {\n",
              "            buffers.push(buffer);\n",
              "            downloaded += buffer.byteLength;\n",
              "            progress.value = downloaded;\n",
              "          }\n",
              "        }\n",
              "      }\n",
              "      const blob = new Blob(buffers, {type: 'application/binary'});\n",
              "      const a = document.createElement('a');\n",
              "      a.href = window.URL.createObjectURL(blob);\n",
              "      a.download = filename;\n",
              "      div.appendChild(a);\n",
              "      a.click();\n",
              "      div.remove();\n",
              "    }\n",
              "  "
            ]
          },
          "metadata": {}
        },
        {
          "output_type": "display_data",
          "data": {
            "text/plain": [
              "<IPython.core.display.Javascript object>"
            ],
            "application/javascript": [
              "download(\"download_5e90fbee-5262-4b68-add7-f7069626ee3e\", \"vaccination_data.csv\", 1446)"
            ]
          },
          "metadata": {}
        }
      ]
    }
  ]
}